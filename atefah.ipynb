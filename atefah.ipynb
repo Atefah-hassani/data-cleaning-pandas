{
 "cells": [
  {
   "cell_type": "code",
   "execution_count": null,
   "id": "761eb51c-915a-47ef-825e-a468bd56f36b",
   "metadata": {},
   "outputs": [],
   "source": [
    "import pandas as pd"
   ]
  },
  {
   "cell_type": "code",
   "execution_count": null,
   "id": "d60b4780-4028-4589-8822-3a360b832569",
   "metadata": {},
   "outputs": [],
   "source": [
    "!pip3 install xlrd"
   ]
  },
  {
   "cell_type": "code",
   "execution_count": null,
   "id": "a1a7aa44-b60d-4471-8727-5c7a4e96ad96",
   "metadata": {},
   "outputs": [],
   "source": [
    "df = pd.read_excel(r\"GSAF5.xls\")"
   ]
  },
  {
   "cell_type": "code",
   "execution_count": null,
   "id": "6bb88664-4ce6-4725-a8be-0f0ee1537b84",
   "metadata": {},
   "outputs": [],
   "source": [
    "df"
   ]
  },
  {
   "cell_type": "code",
   "execution_count": null,
   "id": "4802205e-f8ad-4fe0-aa5e-97d4a83b270c",
   "metadata": {},
   "outputs": [],
   "source": [
    "df.shape"
   ]
  },
  {
   "cell_type": "code",
   "execution_count": null,
   "id": "ace12cba-39b7-48d3-b666-0d954bcb82ec",
   "metadata": {},
   "outputs": [],
   "source": [
    "df.head()"
   ]
  },
  {
   "cell_type": "code",
   "execution_count": null,
   "id": "fd7aa60b-2a41-4412-9aca-3c9fb189c5d8",
   "metadata": {},
   "outputs": [],
   "source": [
    "df.tail()"
   ]
  },
  {
   "cell_type": "code",
   "execution_count": 7,
   "id": "33bd2a11",
   "metadata": {},
   "outputs": [
    {
     "data": {
      "text/plain": [
       "Date                 0\n",
       "Year                 2\n",
       "Type                18\n",
       "Country             50\n",
       "State              482\n",
       "Location           565\n",
       "Activity           585\n",
       "Name               219\n",
       "Sex                579\n",
       "Age               2994\n",
       "Injury              35\n",
       "Fatal Y/N          561\n",
       "Time              3526\n",
       "Species           3132\n",
       "Source              19\n",
       "pdf                193\n",
       "href formula       198\n",
       "href               196\n",
       "Case Number        194\n",
       "Case Number.1      195\n",
       "original order     193\n",
       "Unnamed: 21       6991\n",
       "Unnamed: 22       6990\n",
       "dtype: int64"
      ]
     },
     "execution_count": 7,
     "metadata": {},
     "output_type": "execute_result"
    }
   ],
   "source": [
    "df.isna().sum()"
   ]
  },
  {
   "cell_type": "code",
   "execution_count": 8,
   "id": "61ccaa77-8b47-4445-a20a-3207451f25ca",
   "metadata": {},
   "outputs": [
    {
     "data": {
      "text/plain": [
       "0       8\n",
       "1       8\n",
       "2       8\n",
       "3       8\n",
       "4       8\n",
       "       ..\n",
       "6987    5\n",
       "6988    6\n",
       "6989    5\n",
       "6990    7\n",
       "6991    4\n",
       "Length: 6992, dtype: int64"
      ]
     },
     "execution_count": 8,
     "metadata": {},
     "output_type": "execute_result"
    }
   ],
   "source": [
    "df.isna().sum(axis=1)"
   ]
  },
  {
   "cell_type": "code",
   "execution_count": null,
   "id": "6196fadc-304e-49be-a269-2a87dba540d2",
   "metadata": {},
   "outputs": [],
   "source": [
    "# Convert Age to numeric, forcing errors to NaN\n",
    "df[\"Age\"] = pd.to_numeric(df[\"Age\"], errors=\"coerce\")\n",
    "\n",
    "# Remove unrealistic ages\n",
    "df = df[(df[\"Age\"] >= 0) & (df[\"Age\"] <= 120)]\n",
    "\n",
    "# Fill missing values with median age\n",
    "df[\"Age\"].fillna(df[\"Age\"].median())"
   ]
  },
  {
   "cell_type": "code",
   "execution_count": null,
   "id": "b0431d1f-4f10-46c1-931e-ce1e796e7e41",
   "metadata": {},
   "outputs": [],
   "source": [
    "df.shape"
   ]
  },
  {
   "cell_type": "code",
   "execution_count": null,
   "id": "fe794276-7f21-4aa4-8416-2cc5d3d847af",
   "metadata": {},
   "outputs": [],
   "source": [
    "# Standardizing values\n",
    "df[\"Sex\"] = df[\"Sex\"].str.strip().str.title()  # Removes extra spaces and capitalizes\n",
    "\n",
    "# Replace different variations of Male and Female\n",
    "df[\"Sex\"].replace({\"M\": \"Male\", \"F\": \"Female\", \"Fem\": \"Female\", \"Unknown\": None})\n",
    "\n",
    "# Fill missing values with \"Unknown\"\n",
    "df[\"Sex\"].fillna(\"Unknown\")"
   ]
  },
  {
   "cell_type": "code",
   "execution_count": null,
   "id": "5883828c-7b9a-4001-91e0-227d0a919c6f",
   "metadata": {},
   "outputs": [],
   "source": [
    "df[[\"Age\", \"Sex\"]]"
   ]
  },
  {
   "cell_type": "code",
   "execution_count": null,
   "id": "b2cd4147-1392-45c6-b584-f7c263a75ce9",
   "metadata": {},
   "outputs": [],
   "source": [
    "max_age = df[\"Age\"].max()       # Get the maximum age\n",
    "median_age = df[\"Age\"].median() # Get the median age\n",
    "min_age = df[\"Age\"].min()       # Get the minimum age\n",
    "\n",
    "print(\"Max Age:\", max_age)\n",
    "print(\"Median Age:\", median_age)\n",
    "print(\"Min Age:\", min_age)"
   ]
  },
  {
   "cell_type": "code",
   "execution_count": 9,
   "id": "9dd6bda1-42f2-4848-a0f9-952d08963e72",
   "metadata": {},
   "outputs": [
    {
     "name": "stdout",
     "output_type": "stream",
     "text": [
      "Sex\n",
      "M        5613\n",
      "F         792\n",
      "M           2\n",
      "N           2\n",
      " M          1\n",
      "lli         1\n",
      "M x 2       1\n",
      ".           1\n",
      "Name: count, dtype: int64\n",
      "The most common gender is: M with 5613 occurrences.\n",
      "The least common gender is:  M with 1 occurrences.\n"
     ]
    }
   ],
   "source": [
    "sex_counts = df[\"Sex\"].value_counts()  # Count occurrences of each category\n",
    "print(sex_counts)\n",
    "\n",
    "# Find which gender has the highest and lowest count\n",
    "most_common = sex_counts.idxmax()  # Gender with the highest count\n",
    "least_common = sex_counts.idxmin() # Gender with the lowest count\n",
    "\n",
    "print(f\"The most common gender is: {most_common} with {sex_counts.max()} occurrences.\")\n",
    "print(f\"The least common gender is: {least_common} with {sex_counts.min()} occurrences.\")"
   ]
  },
  {
   "cell_type": "code",
   "execution_count": 10,
   "id": "fe5b26fa-41bd-4a47-8718-d3a134257631",
   "metadata": {},
   "outputs": [
    {
     "data": {
      "text/plain": [
       "Country\n",
       "USA                   2556\n",
       "AUSTRALIA             1481\n",
       "SOUTH AFRICA           597\n",
       "NEW ZEALAND            144\n",
       "PAPUA NEW GUINEA       136\n",
       "                      ... \n",
       "EGYPT / ISRAEL           1\n",
       "Seychelles               1\n",
       "GRAND CAYMAN             1\n",
       "ST. MAARTIN              1\n",
       "CEYLON (SRI LANKA)       1\n",
       "Name: count, Length: 239, dtype: int64"
      ]
     },
     "execution_count": 10,
     "metadata": {},
     "output_type": "execute_result"
    }
   ],
   "source": [
    "df[\"Country\"].value_counts()"
   ]
  },
  {
   "cell_type": "code",
   "execution_count": 11,
   "id": "05bbf9c1-f64a-4e65-8a44-c411dd869cad",
   "metadata": {},
   "outputs": [
    {
     "name": "stdout",
     "output_type": "stream",
     "text": [
      "<class 'pandas.core.frame.DataFrame'>\n",
      "RangeIndex: 6992 entries, 0 to 6991\n",
      "Data columns (total 23 columns):\n",
      " #   Column          Non-Null Count  Dtype  \n",
      "---  ------          --------------  -----  \n",
      " 0   Date            6992 non-null   object \n",
      " 1   Year            6990 non-null   float64\n",
      " 2   Type            6974 non-null   object \n",
      " 3   Country         6942 non-null   object \n",
      " 4   State           6510 non-null   object \n",
      " 5   Location        6427 non-null   object \n",
      " 6   Activity        6407 non-null   object \n",
      " 7   Name            6773 non-null   object \n",
      " 8   Sex             6413 non-null   object \n",
      " 9   Age             3998 non-null   object \n",
      " 10  Injury          6957 non-null   object \n",
      " 11  Fatal Y/N       6431 non-null   object \n",
      " 12  Time            3466 non-null   object \n",
      " 13  Species         3860 non-null   object \n",
      " 14  Source          6973 non-null   object \n",
      " 15  pdf             6799 non-null   object \n",
      " 16  href formula    6794 non-null   object \n",
      " 17  href            6796 non-null   object \n",
      " 18  Case Number     6798 non-null   object \n",
      " 19  Case Number.1   6797 non-null   object \n",
      " 20  original order  6799 non-null   float64\n",
      " 21  Unnamed: 21     1 non-null      object \n",
      " 22  Unnamed: 22     2 non-null      object \n",
      "dtypes: float64(2), object(21)\n",
      "memory usage: 1.2+ MB\n"
     ]
    }
   ],
   "source": [
    "#Check the types \n",
    "df.info()"
   ]
  },
  {
   "cell_type": "code",
   "execution_count": null,
   "id": "7c7a4e3f",
   "metadata": {},
   "outputs": [],
   "source": []
  }
 ],
 "metadata": {
  "kernelspec": {
   "display_name": "Python 3 (ipykernel)",
   "language": "python",
   "name": "python3"
  },
  "language_info": {
   "codemirror_mode": {
    "name": "ipython",
    "version": 3
   },
   "file_extension": ".py",
   "mimetype": "text/x-python",
   "name": "python",
   "nbconvert_exporter": "python",
   "pygments_lexer": "ipython3",
   "version": "3.8.5"
  }
 },
 "nbformat": 4,
 "nbformat_minor": 5
}
