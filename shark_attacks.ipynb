{
 "cells": [
  {
   "cell_type": "code",
   "execution_count": 56,
   "id": "761eb51c-915a-47ef-825e-a468bd56f36b",
   "metadata": {},
   "outputs": [],
   "source": [
    "import pandas as pd"
   ]
  },
  {
   "cell_type": "code",
   "execution_count": 57,
   "id": "d60b4780-4028-4589-8822-3a360b832569",
   "metadata": {},
   "outputs": [
    {
     "name": "stdout",
     "output_type": "stream",
     "text": [
      "Requirement already satisfied: xlrd in c:\\users\\49151\\anaconda3\\lib\\site-packages (2.0.1)\n"
     ]
    }
   ],
   "source": [
    "!pip install xlrd"
   ]
  },
  {
   "cell_type": "code",
   "execution_count": 58,
   "id": "a1a7aa44-b60d-4471-8727-5c7a4e96ad96",
   "metadata": {},
   "outputs": [],
   "source": [
    "df = pd.read_excel(\"GSAF5.xls\")"
   ]
  },
  {
   "cell_type": "code",
   "execution_count": 59,
   "id": "fd7aa60b-2a41-4412-9aca-3c9fb189c5d8",
   "metadata": {},
   "outputs": [
    {
     "data": {
      "text/plain": [
       "Index(['Date', 'Year', 'Type', 'Country', 'State', 'Location', 'Activity',\n",
       "       'Name', 'Sex', 'Age', 'Injury', 'Fatal Y/N', 'Time', 'Species ',\n",
       "       'Source', 'pdf', 'href formula', 'href', 'Case Number', 'Case Number.1',\n",
       "       'original order', 'Unnamed: 21', 'Unnamed: 22'],\n",
       "      dtype='object')"
      ]
     },
     "execution_count": 59,
     "metadata": {},
     "output_type": "execute_result"
    }
   ],
   "source": [
    "df.columns"
   ]
  },
  {
   "cell_type": "code",
   "execution_count": 60,
   "id": "24002958",
   "metadata": {},
   "outputs": [
    {
     "data": {
      "text/plain": [
       "(6992, 23)"
      ]
     },
     "execution_count": 60,
     "metadata": {},
     "output_type": "execute_result"
    }
   ],
   "source": [
    "df.shape"
   ]
  },
  {
   "cell_type": "code",
   "execution_count": 61,
   "id": "fcf08335",
   "metadata": {},
   "outputs": [
    {
     "data": {
      "text/plain": [
       "0"
      ]
     },
     "execution_count": 61,
     "metadata": {},
     "output_type": "execute_result"
    }
   ],
   "source": [
    "df.duplicated().sum()"
   ]
  },
  {
   "cell_type": "code",
   "execution_count": 68,
   "id": "8bb4d931",
   "metadata": {},
   "outputs": [
    {
     "name": "stdout",
     "output_type": "stream",
     "text": [
      "Index(['Date', 'Year', 'Type', 'Country', 'State', 'Location', 'Activity',\n",
      "       'Name', 'Sex', 'Age', 'Injury', 'Fatal Y/N', 'Time', 'Species ',\n",
      "       'Source'],\n",
      "      dtype='object')\n"
     ]
    }
   ],
   "source": [
    "workAbleColumns = df.iloc[:, 0:15] \n",
    "print(workAbleColumns.columns)"
   ]
  },
  {
   "cell_type": "code",
   "execution_count": 75,
   "id": "d326ee72",
   "metadata": {},
   "outputs": [
    {
     "data": {
      "text/plain": [
       "1"
      ]
     },
     "execution_count": 75,
     "metadata": {},
     "output_type": "execute_result"
    }
   ],
   "source": [
    "workAbleColumns.duplicated().sum()"
   ]
  },
  {
   "cell_type": "code",
   "execution_count": 76,
   "id": "31f6672b",
   "metadata": {},
   "outputs": [
    {
     "name": "stdout",
     "output_type": "stream",
     "text": [
      "Index([5366], dtype='int64')\n"
     ]
    }
   ],
   "source": [
    "duplicated_indices = workAbleColumns[workAbleColumns.duplicated()].index\n",
    "print(duplicated_indices)"
   ]
  },
  {
   "cell_type": "code",
   "execution_count": 77,
   "id": "972c0d93",
   "metadata": {},
   "outputs": [
    {
     "name": "stdout",
     "output_type": "stream",
     "text": [
      "           Date    Year        Type Country   State  \\\n",
      "5366  Fall 1943  1943.0  Unprovoked     USA  Hawaii   \n",
      "\n",
      "                                          Location      Activity      Name  \\\n",
      "5366  Midway Island, Northwestern Hawaiian Islands  Spearfishing   2 males   \n",
      "\n",
      "     Sex  Age                    Injury Fatal Y/N Time        Species   \\\n",
      "5366   M  NaN  Calf nipped in each case         N  NaN  \"small sharks\"   \n",
      "\n",
      "             Source  \n",
      "5366  W. M. Chapman  \n"
     ]
    }
   ],
   "source": [
    "print(workAbleColumns.iloc[duplicated_indices])"
   ]
  },
  {
   "cell_type": "code",
   "execution_count": 69,
   "id": "8d4f37f9",
   "metadata": {},
   "outputs": [
    {
     "data": {
      "text/plain": [
       "Date            0\n",
       "Year            2\n",
       "Type           18\n",
       "Country        50\n",
       "State         482\n",
       "Location      565\n",
       "Activity      585\n",
       "Name          219\n",
       "Sex           579\n",
       "Age          2994\n",
       "Injury         35\n",
       "Fatal Y/N     561\n",
       "Time         3526\n",
       "Species      3132\n",
       "Source         19\n",
       "dtype: int64"
      ]
     },
     "execution_count": 69,
     "metadata": {},
     "output_type": "execute_result"
    }
   ],
   "source": [
    "workAbleColumns. isna().sum()"
   ]
  },
  {
   "cell_type": "code",
   "execution_count": 63,
   "id": "bb6490f8",
   "metadata": {},
   "outputs": [],
   "source": [
    "#if there were duplicates we would have used the following code to drop them\n",
    "#df.drop_duplicates(inplace=True)"
   ]
  },
  {
   "cell_type": "code",
   "execution_count": 70,
   "id": "33663cb2",
   "metadata": {},
   "outputs": [
    {
     "data": {
      "text/plain": [
       "Date          object\n",
       "Year         float64\n",
       "Type          object\n",
       "Country       object\n",
       "State         object\n",
       "Location      object\n",
       "Activity      object\n",
       "Name          object\n",
       "Sex           object\n",
       "Age           object\n",
       "Injury        object\n",
       "Fatal Y/N     object\n",
       "Time          object\n",
       "Species       object\n",
       "Source        object\n",
       "dtype: object"
      ]
     },
     "execution_count": 70,
     "metadata": {},
     "output_type": "execute_result"
    }
   ],
   "source": [
    "workAbleColumns.dtypes"
   ]
  },
  {
   "cell_type": "code",
   "execution_count": 14,
   "id": "aff0b21d",
   "metadata": {},
   "outputs": [
    {
     "name": "stdout",
     "output_type": "stream",
     "text": [
      "Index(['Date', 'Year', 'Type', 'Country', 'State', 'Location', 'Activity',\n",
      "       'Name', 'Sex', 'Age', 'Injury', 'Fatal Y/N', 'Time', 'Species ',\n",
      "       'Source'],\n",
      "      dtype='object')\n"
     ]
    }
   ],
   "source": [
    "\n"
   ]
  },
  {
   "cell_type": "code",
   "execution_count": 32,
   "id": "ca338e38",
   "metadata": {},
   "outputs": [
    {
     "data": {
      "text/plain": [
       "Date            0\n",
       "Year            2\n",
       "Type           18\n",
       "Country        50\n",
       "State         482\n",
       "Location      565\n",
       "Activity      585\n",
       "Name          219\n",
       "Sex           579\n",
       "Age          2994\n",
       "Injury         35\n",
       "Fatal Y/N     561\n",
       "Time         3526\n",
       "Species      3132\n",
       "Source         19\n",
       "dtype: int64"
      ]
     },
     "execution_count": 32,
     "metadata": {},
     "output_type": "execute_result"
    }
   ],
   "source": [
    "workAbleColumns.isna().sum()"
   ]
  },
  {
   "cell_type": "code",
   "execution_count": 35,
   "id": "720c165f",
   "metadata": {},
   "outputs": [
    {
     "name": "stdout",
     "output_type": "stream",
     "text": [
      "1935.0185979971388\n"
     ]
    }
   ],
   "source": [
    "year_mean = df[\"Year\"].mean()\n",
    "print(year_mean)"
   ]
  },
  {
   "cell_type": "code",
   "execution_count": 37,
   "id": "9ff20937",
   "metadata": {},
   "outputs": [
    {
     "name": "stderr",
     "output_type": "stream",
     "text": [
      "C:\\Users\\49151\\AppData\\Local\\Temp\\ipykernel_16268\\159077894.py:1: FutureWarning: A value is trying to be set on a copy of a DataFrame or Series through chained assignment using an inplace method.\n",
      "The behavior will change in pandas 3.0. This inplace method will never work because the intermediate object on which we are setting values always behaves as a copy.\n",
      "\n",
      "For example, when doing 'df[col].method(value, inplace=True)', try using 'df.method({col: value}, inplace=True)' or df[col] = df[col].method(value) instead, to perform the operation inplace on the original object.\n",
      "\n",
      "\n",
      "  workAbleColumns['Year'].fillna(workAbleColumns['Year'].mean(), inplace=True)\n"
     ]
    }
   ],
   "source": [
    "workAbleColumns['Year'].fillna(workAbleColumns['Year'].mean(), inplace=True)"
   ]
  },
  {
   "cell_type": "code",
   "execution_count": 39,
   "id": "514bf955",
   "metadata": {},
   "outputs": [
    {
     "name": "stdout",
     "output_type": "stream",
     "text": [
      "0       2025.0\n",
      "1       2025.0\n",
      "2       2025.0\n",
      "3       2025.0\n",
      "4       2025.0\n",
      "         ...  \n",
      "6987       0.0\n",
      "6988       0.0\n",
      "6989       0.0\n",
      "6990       0.0\n",
      "6991       0.0\n",
      "Name: Year, Length: 6992, dtype: float64\n"
     ]
    }
   ],
   "source": [
    "print(workAbleColumns['Year'])"
   ]
  },
  {
   "cell_type": "code",
   "execution_count": 43,
   "id": "2e24071b",
   "metadata": {},
   "outputs": [
    {
     "data": {
      "text/plain": [
       "0"
      ]
     },
     "execution_count": 43,
     "metadata": {},
     "output_type": "execute_result"
    }
   ],
   "source": [
    "workAbleColumns ['Year'].isna().sum()"
   ]
  },
  {
   "cell_type": "code",
   "execution_count": 15,
   "id": "e19747d0",
   "metadata": {},
   "outputs": [
    {
     "data": {
      "text/plain": [
       "Country\n",
       "USA                   2556\n",
       "AUSTRALIA             1481\n",
       "SOUTH AFRICA           597\n",
       "NEW ZEALAND            144\n",
       "PAPUA NEW GUINEA       136\n",
       "                      ... \n",
       "EGYPT / ISRAEL           1\n",
       "Seychelles               1\n",
       "GRAND CAYMAN             1\n",
       "ST. MAARTIN              1\n",
       "CEYLON (SRI LANKA)       1\n",
       "Name: count, Length: 239, dtype: int64"
      ]
     },
     "execution_count": 15,
     "metadata": {},
     "output_type": "execute_result"
    }
   ],
   "source": [
    "#in which countries do shark attacks occur?\n",
    "workAbleColumns[\"Country\"].value_counts()"
   ]
  },
  {
   "cell_type": "code",
   "execution_count": 16,
   "id": "11552801",
   "metadata": {},
   "outputs": [
    {
     "name": "stdout",
     "output_type": "stream",
     "text": [
      "USA\n"
     ]
    }
   ],
   "source": [
    "#Which country in the world has the most shark attacks?\n",
    "def mostSharkAttacks():\n",
    "    return workAbleColumns['Country'].value_counts().idxmax()\n",
    "print(mostSharkAttacks())"
   ]
  },
  {
   "cell_type": "code",
   "execution_count": 17,
   "id": "fdc85089",
   "metadata": {},
   "outputs": [
    {
     "name": "stdout",
     "output_type": "stream",
     "text": [
      "Country\n",
      "USA                 2556\n",
      "AUSTRALIA           1481\n",
      "SOUTH AFRICA         597\n",
      "NEW ZEALAND          144\n",
      "PAPUA NEW GUINEA     136\n",
      "BAHAMAS              136\n",
      "BRAZIL               122\n",
      "MEXICO               103\n",
      "ITALY                 72\n",
      "FIJI                  67\n",
      "Name: count, dtype: int64\n"
     ]
    }
   ],
   "source": [
    "#Top 10 countries with the most shark attacks\n",
    "TopTenCountries = workAbleColumns['Country'].value_counts().head(10)\n",
    "print(TopTenCountries)"
   ]
  },
  {
   "cell_type": "code",
   "execution_count": 18,
   "id": "5b489000",
   "metadata": {},
   "outputs": [
    {
     "data": {
      "text/plain": [
       "Location\n",
       "New Smyrna Beach, Volusia County              191\n",
       "Daytona Beach, Volusia County                  31\n",
       "Ponce Inlet, Volusia County                    28\n",
       "Myrtle Beach, Horry County                     22\n",
       "Melbourne Beach, Brevard County                20\n",
       "                                             ... \n",
       "Tunnels surf break off Makua Beach, Kaua'i      1\n",
       "Near Patrick Air Force Base Brevard County      1\n",
       "Palm Beach?                                     1\n",
       "Stuart Park Beach, Martin County                1\n",
       "Below the English fort, Trincomalee             1\n",
       "Name: count, Length: 4553, dtype: int64"
      ]
     },
     "execution_count": 18,
     "metadata": {},
     "output_type": "execute_result"
    }
   ],
   "source": [
    "#STATES IN USA WHERE SHARK ATTACKS OCCUR\n",
    "workAbleColumns[\"Location\"].value_counts()"
   ]
  },
  {
   "cell_type": "code",
   "execution_count": null,
   "id": "e3a82cc0",
   "metadata": {},
   "outputs": [],
   "source": []
  }
 ],
 "metadata": {
  "kernelspec": {
   "display_name": "base",
   "language": "python",
   "name": "python3"
  },
  "language_info": {
   "codemirror_mode": {
    "name": "ipython",
    "version": 3
   },
   "file_extension": ".py",
   "mimetype": "text/x-python",
   "name": "python",
   "nbconvert_exporter": "python",
   "pygments_lexer": "ipython3",
   "version": "3.12.7"
  }
 },
 "nbformat": 4,
 "nbformat_minor": 5
}
