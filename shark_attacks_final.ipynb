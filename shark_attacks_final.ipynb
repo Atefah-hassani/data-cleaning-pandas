{
 "cells": [
  {
   "cell_type": "markdown",
   "id": "2e09a0d2",
   "metadata": {},
   "source": [
    "# General imports"
   ]
  },
  {
   "cell_type": "code",
   "execution_count": null,
   "id": "761eb51c-915a-47ef-825e-a468bd56f36b",
   "metadata": {},
   "outputs": [],
   "source": [
    "import pandas as pd"
   ]
  },
  {
   "cell_type": "code",
   "execution_count": null,
   "id": "d60b4780-4028-4589-8822-3a360b832569",
   "metadata": {},
   "outputs": [],
   "source": [
    "!pip3 install xlrd"
   ]
  },
  {
   "cell_type": "code",
   "execution_count": null,
   "id": "a1a7aa44-b60d-4471-8727-5c7a4e96ad96",
   "metadata": {},
   "outputs": [],
   "source": [
    "df = pd.read_excel(\"GSAF5.xls\")"
   ]
  },
  {
   "cell_type": "markdown",
   "id": "ed92c455",
   "metadata": {},
   "source": [
    "# Exploratary Data Analysis:"
   ]
  },
  {
   "cell_type": "code",
   "execution_count": null,
   "id": "24002958",
   "metadata": {},
   "outputs": [],
   "source": [
    "#check for count of rows and colums.\n",
    "df.shape"
   ]
  },
  {
   "cell_type": "code",
   "execution_count": null,
   "id": "fd7aa60b-2a41-4412-9aca-3c9fb189c5d8",
   "metadata": {},
   "outputs": [],
   "source": [
    "# check what columns does this DF have.\n",
    "df.columns"
   ]
  },
  {
   "cell_type": "code",
   "execution_count": null,
   "id": "fcf08335",
   "metadata": {},
   "outputs": [],
   "source": [
    "# check how many duplicated rows is there.\n",
    "df.duplicated().sum()"
   ]
  },
  {
   "cell_type": "code",
   "execution_count": null,
   "id": "8bb4d931",
   "metadata": {},
   "outputs": [],
   "source": [
    "# use .iloc to take all the rows and 0:15 columns, save it in a new variable.\n",
    "df = df.iloc[:, 0:15] \n",
    "print(df.columns)"
   ]
  },
  {
   "cell_type": "code",
   "execution_count": null,
   "id": "d326ee72",
   "metadata": {},
   "outputs": [],
   "source": [
    "# check how many duplicates are in the new DF.\n",
    "df.duplicated().sum()"
   ]
  },
  {
   "cell_type": "code",
   "execution_count": null,
   "id": "31f6672b",
   "metadata": {},
   "outputs": [],
   "source": [
    "# locate the duplicated row.\n",
    "df[df.duplicated()]"
   ]
  },
  {
   "cell_type": "code",
   "execution_count": null,
   "id": "847dd218-7755-4761-8a0a-5ac77833f513",
   "metadata": {},
   "outputs": [],
   "source": [
    "# drop this duplicated row, check whether it took effect.\n",
    "df.drop_duplicates(inplace = True)"
   ]
  },
  {
   "cell_type": "code",
   "execution_count": null,
   "id": "8d4f37f9",
   "metadata": {},
   "outputs": [],
   "source": [
    "# check which columns have NaN values and deep dive into each of them.\n",
    "df.isna().sum()"
   ]
  },
  {
   "cell_type": "code",
   "execution_count": null,
   "id": "33663cb2",
   "metadata": {},
   "outputs": [],
   "source": [
    "# check the data types of the columns and see whether they make sense.\n",
    "df.dtypes"
   ]
  },
  {
   "cell_type": "markdown",
   "id": "1a485fd0",
   "metadata": {},
   "source": [
    "# Year column"
   ]
  },
  {
   "cell_type": "code",
   "execution_count": null,
   "id": "9ff20937",
   "metadata": {},
   "outputs": [],
   "source": [
    "# 1) current data type is float, it should be integer or string or category depends on the purpose of the analysis.\n",
    "# 2) for now, fill all the NaNs with mean...?\n",
    "df['Year'] = df['Year'].fillna(df['Year'].mean())"
   ]
  },
  {
   "cell_type": "code",
   "execution_count": null,
   "id": "4f970574-625d-4a04-9d20-3ad24570cb79",
   "metadata": {},
   "outputs": [],
   "source": [
    "# Column \"Activity\":\n",
    "# 1) check how many unique values in this column.\n",
    "print(df.Activity.nunique())\n",
    "print(df[\"Activity\"].value_counts())\n",
    "print(df[\"Activity\"].isnull().sum())"
   ]
  },
  {
   "cell_type": "code",
   "execution_count": null,
   "id": "53579e46-ce41-442d-9a22-edc7f1020110",
   "metadata": {},
   "outputs": [],
   "source": [
    "# Column \"Activity\":\n",
    "# 2) use Regex and .map() to categorize them.\n",
    "import re\n",
    "def categorize_activity(activity):\n",
    "    activity = str(activity).lower()  # Convert to lowercase for uniformity\n",
    "    \n",
    "    if re.search(r'surf|bodyboard', activity):\n",
    "        return 'Surfing'\n",
    "    elif re.search(r'swim|wading|diving', activity):\n",
    "        return 'Swimming'\n",
    "    elif re.search(r'fish|spearfish', activity):\n",
    "        return 'Fishing'\n",
    "    elif re.search(r'boat|ferry|capsized|canoe|kayak', activity):\n",
    "        return 'Boating'\n",
    "    elif re.search(r'wash|bath', activity):\n",
    "        return 'Bathing'\n",
    "    elif re.search(r'dive|diving', activity):\n",
    "        return 'Diving'\n",
    "    else:\n",
    "        return 'Other'\n",
    "df[\"Activity\"] = df[\"Activity\"].apply(categorize_activity)\n",
    "df[\"Activity\"].unique()"
   ]
  },
  {
   "cell_type": "markdown",
   "id": "b475b571",
   "metadata": {},
   "source": [
    "# Species column"
   ]
  },
  {
   "cell_type": "code",
   "execution_count": null,
   "id": "0ffbcbcf",
   "metadata": {},
   "outputs": [],
   "source": [
    "# species data cleaning\n",
    "# rename column\n",
    "df.rename(columns={\"Species \": \"Species\"}, inplace=True)\n",
    "\n",
    "# CHECK 20 most frequent values\n",
    "df[\"Species\"].value_counts().head(20)"
   ]
  },
  {
   "cell_type": "code",
   "execution_count": null,
   "id": "02e4f6f6",
   "metadata": {},
   "outputs": [],
   "source": []
  },
  {
   "cell_type": "code",
   "execution_count": null,
   "id": "b3128b1b",
   "metadata": {},
   "outputs": [],
   "source": [
    "# Replace 'nan' object (string) and other useless data with rean NaN\n",
    "df[\"Species\"] = df[\"Species\"].replace([\n",
    "    \"nan\", \n",
    "    \"NaN\", \n",
    "    \"NAN\", \n",
    "    \"invalid\",\n",
    "    \"shark involvement prior to death was not confirmed\",\n",
    "    \"shark involvement not confirmed\",\n",
    "    \"shark involvement prior to death unconfirmed\",\n",
    "    \"questionable incident\",\n",
    "    \"questionable\"\n",
    "], float(\"nan\"))\n"
   ]
  },
  {
   "cell_type": "code",
   "execution_count": null,
   "id": "0913df63",
   "metadata": {},
   "outputs": [],
   "source": [
    "# lowercase and trim\n",
    "df[\"Species\"] = df[\"Species\"].str.lower().str.strip()"
   ]
  },
  {
   "cell_type": "code",
   "execution_count": null,
   "id": "9d3be877",
   "metadata": {},
   "outputs": [],
   "source": [
    "# set NaN values to \"Unknown\"\n",
    "df[\"Species\"].fillna(\"Unknown\", inplace=True)\n",
    "df.head(100)"
   ]
  },
  {
   "cell_type": "code",
   "execution_count": null,
   "id": "1b5c2fd3",
   "metadata": {},
   "outputs": [],
   "source": [
    "# order A-Z unique values for duplicities -> yay! :)\n",
    "unique_species = sorted(df[\"Species\"].unique())\n",
    "for species in unique_species:\n",
    "    print(species)"
   ]
  },
  {
   "cell_type": "code",
   "execution_count": null,
   "id": "0170fe03",
   "metadata": {},
   "outputs": [],
   "source": [
    "# regex party\n",
    "\n",
    "df[\"Species\"] = df[\"Species\"].replace(to_replace=r\"(?i)tiger shark.*\", value=\"tiger shark\", regex=True)\n",
    "df[\"Species\"] = df[\"Species\"].replace(to_replace=r\"(?i)white shark.*\", value=\"white shark\", regex=True)\n",
    "df[\"Species\"] = df[\"Species\"].replace(to_replace=r\"(?i)zambesi.*\", value=\"zambesi shark\", regex=True)\n",
    "df[\"Species\"] = df[\"Species\"].replace(to_replace=r\"(?i)wobbegong.*\", value=\"wobbegong shark\", regex=True)\n",
    "df[\"Species\"] = df[\"Species\"].replace(to_replace=r\"(?i)spinner.*\", value=\"spinner shark\", regex=True)\n",
    "df[\"Species\"] = df[\"Species\"].replace(to_replace=r\"(?i)sevengill.*\", value=\"sevengill shark\", regex=True)\n",
    "df[\"Species\"] = df[\"Species\"].replace(to_replace=r\"(?i)sandtiger.*\", value=\"sandtiger shark\", regex=True)\n",
    "df[\"Species\"] = df[\"Species\"].replace(to_replace=r\"(?i)sand.*\", value=\"sandbar shark\", regex=True)\n",
    "df[\"Species\"] = df[\"Species\"].replace(to_replace=r\"(?i)raggedtooth.*\", value=\"raggedtooth shark\", regex=True)\n",
    "df[\"Species\"] = df[\"Species\"].replace(to_replace=r\"(?i)whitetip.*\", value=\"oceanic whitetip shark\", regex=True)\n",
    "df[\"Species\"] = df[\"Species\"].replace(to_replace=r\"(?i)nurse shark.*\", value=\"nurse shark\", regex=True)\n",
    "\n",
    "df[\"Species\"] = df[\"Species\"].replace(to_replace=r\"(?i)mako.*\", value=\"mako shark\", regex=True)\n",
    "df[\"Species\"] = df[\"Species\"].replace(to_replace=r\"(?i)lemon.*\", value=\"lemon shark\", regex=True)\n",
    "df[\"Species\"] = df[\"Species\"].replace(to_replace=r\"(?i)hammerhead.*\", value=\"hammerhead shark\", regex=True)\n",
    "df[\"Species\"] = df[\"Species\"].replace(to_replace=r\"(?i)bull.*\", value=\"bull shark\", regex=True)\n",
    "df[\"Species\"] = df[\"Species\"].replace(to_replace=r\"(?i)bronze whaler.*\", value=\"bronze whaler shark\", regex=True)\n",
    "\n",
    "df[\"Species\"] = df[\"Species\"].replace(to_replace=r\"(?i)blue shark.*\", value=\"blue shark\", regex=True)\n",
    "\n",
    "df[\"Species\"] = df[\"Species\"].replace(to_replace=r\"(?i)not confirmed.*\", value=\"Unknown\", regex=True)\n",
    "df[\"Species\"] = df[\"Species\"].replace(to_replace=r\"(?i)unconfirmed.*\", value=\"Unknown\", regex=True)\n",
    "df[\"Species\"] = df[\"Species\"].replace(to_replace=r\"(?i)invalid.*\", value=\"Unknown\", regex=True)\n",
    "df[\"Species\"] = df[\"Species\"].replace(to_replace=r\"(?i)questionable.*\", value=\"Unknown\", regex=True)\n",
    "df[\"Species\"] = df[\"Species\"].replace(to_replace=r\"(?i)shark involvement Unknown.*\", value=\"Unknown\", regex=True)\n",
    "df[\"Species\"] = df[\"Species\"].replace(to_replace=r\"(?i)shark involvement prior to death was Unknown.*\", value=\"Unknown\", regex=True)\n",
    "df[\"Species\"] = df[\"Species\"].replace(to_replace=r\"(?i)shark involvement prior to death Unknown.*\", value=\"Unknown\", regex=True)\n"
   ]
  },
  {
   "cell_type": "markdown",
   "id": "7f9357b8",
   "metadata": {},
   "source": [
    "# Age column"
   ]
  },
  {
   "cell_type": "code",
   "execution_count": null,
   "id": "f706588e",
   "metadata": {},
   "outputs": [],
   "source": [
    "# Convert Age to numeric, forcing errors to NaN\n",
    "df[\"Age\"] = pd.to_numeric(df[\"Age\"], errors=\"coerce\")\n",
    "\n",
    "# Remove unrealistic ages\n",
    "# df = df[(df[\"Age\"] >= 0) & (df[\"Age\"] <= 120)]\n",
    "\n",
    "# Fill missing values with median age\n",
    "df[\"Age\"].fillna(df[\"Age\"].median())"
   ]
  },
  {
   "cell_type": "markdown",
   "id": "e19bd81f",
   "metadata": {},
   "source": [
    "# Sex column"
   ]
  },
  {
   "cell_type": "code",
   "execution_count": null,
   "id": "24cd88e8",
   "metadata": {},
   "outputs": [],
   "source": [
    "# Standardizing values\n",
    "df[\"Sex\"] = df[\"Sex\"].str.strip().str.title()  # Removes extra spaces and capitalizes\n",
    "\n",
    "# Replace different variations of Male and Female\n",
    "df[\"Sex\"].replace({\"M\": \"Male\", \"F\": \"Female\", \"Fem\": \"Female\", \"Unknown\": None})\n",
    "\n",
    "# Fill missing values with \"Unknown\"\n",
    "df[\"Sex\"].fillna(\"Unknown\")"
   ]
  },
  {
   "cell_type": "code",
   "execution_count": null,
   "id": "48a33b85",
   "metadata": {},
   "outputs": [],
   "source": [
    "\n",
    "# Count occurrences of each category\n",
    "sex_counts = df[\"Sex\"].value_counts()  \n",
    "\n",
    "# Replace incorrect values\n",
    "df[\"Sex\"] = df.Sex.str.replace('Lli', 'F')\n",
    "df[\"Sex\"] = df.Sex.str.replace('M X 2', 'M')\n",
    "df[\"Sex\"] = df.Sex.str.replace('.', 'M')\n",
    "df[\"Sex\"] = df.Sex.str.replace('N', 'M')\n",
    "\n",
    "# Find which gender has the highest and lowest count\n",
    "most_common = sex_counts.idxmax()  # Gender with the highest count\n",
    "least_common = sex_counts.idxmin() # Gender with the lowest count\n",
    "\n",
    "print(f\"The most common gender is: {most_common} with {sex_counts.max()} occurrences.\")\n",
    "print(f\"The least common gender is: {least_common} with {sex_counts.min()} occurrences.\")"
   ]
  },
  {
   "cell_type": "markdown",
   "id": "f1f3ccef",
   "metadata": {},
   "source": [
    "# Fatal column"
   ]
  },
  {
   "cell_type": "code",
   "execution_count": null,
   "id": "be92a876",
   "metadata": {},
   "outputs": [],
   "source": [
    "# Replace incorrect values\n",
    "df['Fatal Y/N'] = df['Fatal Y/N'].str.upper()\n",
    "\n",
    "df['Fatal Y/N'] = df['Fatal Y/N'].replace(' N', 'N')\n",
    "df['Fatal Y/N'] = df['Fatal Y/N'].replace('F', 'Y')\n",
    "df['Fatal Y/N'] = df['Fatal Y/N'].replace('M', 'Y')\n",
    "\n",
    "df['Fatal Y/N'] = df['Fatal Y/N'].replace('UNKNOWN', 'Y')\n",
    "\n",
    "df['Fatal Y/N'] = df['Fatal Y/N'].replace('NQ', 'Y')\n",
    "df['Fatal Y/N'] = df['Fatal Y/N'].replace('Y X 2', 'Y')\n",
    "df['Fatal Y/N'] = df['Fatal Y/N'].replace('N ', 'N')\n",
    "\n",
    "df['Fatal Y/N'].value_counts()\n"
   ]
  },
  {
   "cell_type": "markdown",
   "id": "e3814898",
   "metadata": {},
   "source": [
    "# Country column"
   ]
  },
  {
   "cell_type": "code",
   "execution_count": null,
   "id": "3364c78e",
   "metadata": {},
   "outputs": [],
   "source": [
    "df['Country'].fillna('Unknown', inplace=True)"
   ]
  },
  {
   "cell_type": "code",
   "execution_count": null,
   "id": "8533e628",
   "metadata": {},
   "outputs": [],
   "source": [
    "country_mapping = {\n",
    "    'USA': 'United States',\n",
    "    'US': 'United States',\n",
    "    'United States of America': 'United States',\n",
    "    'UK': 'United Kingdom',\n",
    "    'England': 'United Kingdom',\n",
    "    'Australia': 'Australia',\n",
    "}\n",
    "\n",
    "df['Country'] = df['Country'].replace(country_mapping)\n",
    "\n",
    "df['Country'] = df['Country'].str.strip()\n",
    "\n",
    "df['Country'] = df['Country'].str.title()"
   ]
  },
  {
   "cell_type": "code",
   "execution_count": null,
   "id": "1c11dde3",
   "metadata": {},
   "outputs": [],
   "source": [
    "invalid_countries = df[~df['Country'].isin([\n",
    "    'United States', \n",
    "    'United Kingdom', \n",
    "    'Australia', \n",
    "    'Brazil', \n",
    "    'South Africa', \n",
    "    'France', \n",
    "    'Mexico', \n",
    "    'Canada', \n",
    "    'Germany', \n",
    "    'New Zealand', \n",
    "    'India'])] \n",
    "\n",
    "print(invalid_countries[['Country', 'Location']])\n",
    "\n",
    "df['Country'] = df['Country'].replace(['Invalid Country Name'], 'Unknown')"
   ]
  },
  {
   "cell_type": "code",
   "execution_count": null,
   "id": "1c37dc1b",
   "metadata": {},
   "outputs": [],
   "source": [
    "duplicates = df[df.duplicated(subset=['Country'], keep=False)] \n",
    "print(\"Duplicate entries in 'Country' column:\") \n",
    "print(duplicates[['Country', 'Location']]) "
   ]
  },
  {
   "cell_type": "markdown",
   "id": "aa153f4b",
   "metadata": {},
   "source": [
    "# Statistical data visualization"
   ]
  },
  {
   "cell_type": "code",
   "execution_count": null,
   "id": "d05179e6",
   "metadata": {},
   "outputs": [],
   "source": [
    "import seaborn as sns\n",
    "\n",
    "sns.countplot(x='Sex', data=df)\n"
   ]
  },
  {
   "cell_type": "code",
   "execution_count": null,
   "id": "ff09b80f",
   "metadata": {},
   "outputs": [],
   "source": [
    "df_count[df_count.index > 1800].plot()"
   ]
  },
  {
   "cell_type": "code",
   "execution_count": null,
   "id": "45bf6e0d",
   "metadata": {},
   "outputs": [],
   "source": [
    "sns.histplot(df['Age'], bins=100) "
   ]
  },
  {
   "cell_type": "code",
   "execution_count": null,
   "id": "680faf7a",
   "metadata": {},
   "outputs": [],
   "source": [
    "sns.countplot(df['Activity']) "
   ]
  },
  {
   "cell_type": "code",
   "execution_count": null,
   "id": "1b0fbd93",
   "metadata": {},
   "outputs": [],
   "source": [
    "df['Country'].value_counts().head(10).plot(kind='bar')"
   ]
  },
  {
   "cell_type": "code",
   "execution_count": null,
   "id": "46d18578",
   "metadata": {},
   "outputs": [],
   "source": [
    "sns.boxplot(x='Activity', y='Age', data=df)"
   ]
  },
  {
   "cell_type": "code",
   "execution_count": null,
   "id": "8567ec19",
   "metadata": {},
   "outputs": [],
   "source": [
    "\n",
    "import matplotlib.pyplot as plt\n",
    "\n",
    "attacks_by_country = df['Country'].value_counts()\n",
    "fatal_attacks_by_country = df[df['Fatal Y/N'] == 'Y']['Country'].value_counts()\n",
    "fatal_percentage_by_country = fatal_attacks_by_country / attacks_by_country * 100\n",
    "fatal_attacks_by_state = df[df['Fatal Y/N'] == 'Y']['State'].value_counts()\n",
    "\n",
    "# # Plot the number of attacks by country\n",
    "# plt.figure(figsize=(12, 6))\n",
    "# attacks_by_country.head(10).plot(kind='bar', color='skyblue')\n",
    "# plt.title(\"Top 10 Countries with the Most Shark Attacks\")\n",
    "# plt.xlabel('Country')\n",
    "# plt.ylabel('Number of Attacks')\n",
    "# plt.xticks(rotation=45)\n",
    "# plt.show()\n",
    "\n",
    "# # Plot the number of fatal attacks by country\n",
    "# plt.figure(figsize=(12, 6))\n",
    "# fatal_attacks_by_country.head(10).plot(kind='bar', color='red')\n",
    "# plt.title(\"Top 10 Countries with the Most Fatal Shark Attacks\")\n",
    "# plt.xlabel('Country')\n",
    "# plt.ylabel('Number of Fatal Attacks')\n",
    "# plt.xticks(rotation=45)\n",
    "# plt.show()\n",
    "\n",
    "# # Plot the fatal attack percentage by country\n",
    "# plt.figure(figsize=(12, 6))\n",
    "# fatal_percentage_by_country.head(10).plot(kind='bar', color='orange')\n",
    "# plt.title(\"Top 10 Countries with the Highest Percentage of Fatal Shark Attacks\")\n",
    "# plt.xlabel('Country')\n",
    "# plt.ylabel('Fatal Attack Percentage')\n",
    "# plt.xticks(rotation=45)\n",
    "# plt.show()\n",
    "\n",
    "# Plot the fatal attacks by state\n",
    "plt.figure(figsize=(12, 6))\n",
    "fatal_attacks_by_state.head(10).plot(kind='bar', color='salmon')\n",
    "plt.title(\"Top 10 States with the Most Fatal Shark Attacks\")\n",
    "plt.xlabel('State')\n",
    "plt.ylabel('Number of Fatal Attacks')\n",
    "plt.xticks(rotation=45)\n",
    "plt.show()"
   ]
  }
 ],
 "metadata": {
  "kernelspec": {
   "display_name": "Python 3",
   "language": "python",
   "name": "python3"
  },
  "language_info": {
   "codemirror_mode": {
    "name": "ipython",
    "version": 3
   },
   "file_extension": ".py",
   "mimetype": "text/x-python",
   "name": "python",
   "nbconvert_exporter": "python",
   "pygments_lexer": "ipython3",
   "version": "3.8.5"
  }
 },
 "nbformat": 4,
 "nbformat_minor": 5
}
