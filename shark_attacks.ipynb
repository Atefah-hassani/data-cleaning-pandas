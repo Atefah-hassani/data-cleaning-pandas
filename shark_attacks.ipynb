{
 "cells": [
  {
   "cell_type": "code",
   "execution_count": 2,
   "id": "761eb51c-915a-47ef-825e-a468bd56f36b",
   "metadata": {},
   "outputs": [],
   "source": [
    "import pandas as pd"
   ]
  },
  {
   "cell_type": "code",
   "execution_count": 3,
   "id": "d60b4780-4028-4589-8822-3a360b832569",
   "metadata": {},
   "outputs": [
    {
     "name": "stdout",
     "output_type": "stream",
     "text": [
      "Requirement already satisfied: xlrd in c:\\users\\49151\\anaconda3\\lib\\site-packages (2.0.1)\n"
     ]
    }
   ],
   "source": [
    "!pip install xlrd"
   ]
  },
  {
   "cell_type": "code",
   "execution_count": 4,
   "id": "a1a7aa44-b60d-4471-8727-5c7a4e96ad96",
   "metadata": {},
   "outputs": [],
   "source": [
    "df = pd.read_excel(\"GSAF5.xls\")"
   ]
  },
  {
   "cell_type": "code",
   "execution_count": 5,
   "id": "ace12cba-39b7-48d3-b666-0d954bcb82ec",
   "metadata": {},
   "outputs": [
    {
     "data": {
      "text/html": [
       "<div>\n",
       "<style scoped>\n",
       "    .dataframe tbody tr th:only-of-type {\n",
       "        vertical-align: middle;\n",
       "    }\n",
       "\n",
       "    .dataframe tbody tr th {\n",
       "        vertical-align: top;\n",
       "    }\n",
       "\n",
       "    .dataframe thead th {\n",
       "        text-align: right;\n",
       "    }\n",
       "</style>\n",
       "<table border=\"1\" class=\"dataframe\">\n",
       "  <thead>\n",
       "    <tr style=\"text-align: right;\">\n",
       "      <th></th>\n",
       "      <th>Date</th>\n",
       "      <th>Year</th>\n",
       "      <th>Type</th>\n",
       "      <th>Country</th>\n",
       "      <th>State</th>\n",
       "      <th>Location</th>\n",
       "      <th>Activity</th>\n",
       "      <th>Name</th>\n",
       "      <th>Sex</th>\n",
       "      <th>Age</th>\n",
       "      <th>...</th>\n",
       "      <th>Species</th>\n",
       "      <th>Source</th>\n",
       "      <th>pdf</th>\n",
       "      <th>href formula</th>\n",
       "      <th>href</th>\n",
       "      <th>Case Number</th>\n",
       "      <th>Case Number.1</th>\n",
       "      <th>original order</th>\n",
       "      <th>Unnamed: 21</th>\n",
       "      <th>Unnamed: 22</th>\n",
       "    </tr>\n",
       "  </thead>\n",
       "  <tbody>\n",
       "    <tr>\n",
       "      <th>0</th>\n",
       "      <td>2025-01-23 00:00:00</td>\n",
       "      <td>2025.0</td>\n",
       "      <td>Unprovoked</td>\n",
       "      <td>Australia</td>\n",
       "      <td>Western Australia</td>\n",
       "      <td>Shipwreck Cove</td>\n",
       "      <td>Bathing</td>\n",
       "      <td>Boy</td>\n",
       "      <td>M</td>\n",
       "      <td>12</td>\n",
       "      <td>...</td>\n",
       "      <td>Not stated</td>\n",
       "      <td>Bob Myatt GSAF</td>\n",
       "      <td>NaN</td>\n",
       "      <td>NaN</td>\n",
       "      <td>NaN</td>\n",
       "      <td>NaN</td>\n",
       "      <td>NaN</td>\n",
       "      <td>NaN</td>\n",
       "      <td>NaN</td>\n",
       "      <td>NaN</td>\n",
       "    </tr>\n",
       "    <tr>\n",
       "      <th>1</th>\n",
       "      <td>2025-01-22 00:00:00</td>\n",
       "      <td>2025.0</td>\n",
       "      <td>Unprovoked</td>\n",
       "      <td>Australia</td>\n",
       "      <td>Western Australia</td>\n",
       "      <td>Cheynes beach</td>\n",
       "      <td>Surfing</td>\n",
       "      <td>Dale Kittow</td>\n",
       "      <td>M</td>\n",
       "      <td>37</td>\n",
       "      <td>...</td>\n",
       "      <td>Bronze whaler</td>\n",
       "      <td>Bob Myatt GSAF</td>\n",
       "      <td>NaN</td>\n",
       "      <td>NaN</td>\n",
       "      <td>NaN</td>\n",
       "      <td>NaN</td>\n",
       "      <td>NaN</td>\n",
       "      <td>NaN</td>\n",
       "      <td>NaN</td>\n",
       "      <td>NaN</td>\n",
       "    </tr>\n",
       "    <tr>\n",
       "      <th>2</th>\n",
       "      <td>2025-01-11 00:00:00</td>\n",
       "      <td>2025.0</td>\n",
       "      <td>Provoked</td>\n",
       "      <td>USA</td>\n",
       "      <td>Hawaii</td>\n",
       "      <td>Off Haleiwa Boat Harbour Oahu</td>\n",
       "      <td>Diving</td>\n",
       "      <td>Male not stated was a dive tour worker</td>\n",
       "      <td>M</td>\n",
       "      <td>23</td>\n",
       "      <td>...</td>\n",
       "      <td>Not stated</td>\n",
       "      <td>Kevin McMurray Trackingsharks.com</td>\n",
       "      <td>NaN</td>\n",
       "      <td>NaN</td>\n",
       "      <td>NaN</td>\n",
       "      <td>NaN</td>\n",
       "      <td>NaN</td>\n",
       "      <td>NaN</td>\n",
       "      <td>NaN</td>\n",
       "      <td>NaN</td>\n",
       "    </tr>\n",
       "    <tr>\n",
       "      <th>3</th>\n",
       "      <td>2025-01-02 00:00:00</td>\n",
       "      <td>2025.0</td>\n",
       "      <td>Unprovoked</td>\n",
       "      <td>New Caledonia</td>\n",
       "      <td>Grande Terre</td>\n",
       "      <td>Islet of Kendek near Koumac</td>\n",
       "      <td>Spearfishing</td>\n",
       "      <td>Robert Cuewapuru</td>\n",
       "      <td>M</td>\n",
       "      <td>40</td>\n",
       "      <td>...</td>\n",
       "      <td>Reportedly Tiger or Bull shark</td>\n",
       "      <td>Johannes Marchand Todd Smith</td>\n",
       "      <td>NaN</td>\n",
       "      <td>NaN</td>\n",
       "      <td>NaN</td>\n",
       "      <td>NaN</td>\n",
       "      <td>NaN</td>\n",
       "      <td>NaN</td>\n",
       "      <td>NaN</td>\n",
       "      <td>NaN</td>\n",
       "    </tr>\n",
       "    <tr>\n",
       "      <th>4</th>\n",
       "      <td>2025-01-02 00:00:00</td>\n",
       "      <td>2025.0</td>\n",
       "      <td>Unprovoked</td>\n",
       "      <td>Australia</td>\n",
       "      <td>South Australia</td>\n",
       "      <td>Granites Beach near Westall Streaky Bay</td>\n",
       "      <td>Surfing</td>\n",
       "      <td>Lance Appleby</td>\n",
       "      <td>M</td>\n",
       "      <td>28</td>\n",
       "      <td>...</td>\n",
       "      <td>Great White Shart estimated 4.8m 16 ft</td>\n",
       "      <td>Glen Folkard: Simon De Marchi News.com.au: The...</td>\n",
       "      <td>NaN</td>\n",
       "      <td>NaN</td>\n",
       "      <td>NaN</td>\n",
       "      <td>NaN</td>\n",
       "      <td>NaN</td>\n",
       "      <td>NaN</td>\n",
       "      <td>NaN</td>\n",
       "      <td>NaN</td>\n",
       "    </tr>\n",
       "  </tbody>\n",
       "</table>\n",
       "<p>5 rows × 23 columns</p>\n",
       "</div>"
      ],
      "text/plain": [
       "                  Date    Year        Type        Country              State  \\\n",
       "0  2025-01-23 00:00:00  2025.0  Unprovoked      Australia  Western Australia   \n",
       "1  2025-01-22 00:00:00  2025.0  Unprovoked      Australia  Western Australia   \n",
       "2  2025-01-11 00:00:00  2025.0    Provoked            USA             Hawaii   \n",
       "3  2025-01-02 00:00:00  2025.0  Unprovoked  New Caledonia       Grande Terre   \n",
       "4  2025-01-02 00:00:00  2025.0  Unprovoked      Australia    South Australia   \n",
       "\n",
       "                                  Location      Activity  \\\n",
       "0                           Shipwreck Cove       Bathing   \n",
       "1                           Cheynes beach        Surfing   \n",
       "2            Off Haleiwa Boat Harbour Oahu        Diving   \n",
       "3              Islet of Kendek near Koumac  Spearfishing   \n",
       "4  Granites Beach near Westall Streaky Bay       Surfing   \n",
       "\n",
       "                                     Name Sex Age  ...  \\\n",
       "0                                    Boy    M  12  ...   \n",
       "1                             Dale Kittow   M  37  ...   \n",
       "2  Male not stated was a dive tour worker   M  23  ...   \n",
       "3                        Robert Cuewapuru   M  40  ...   \n",
       "4                           Lance Appleby   M  28  ...   \n",
       "\n",
       "                                 Species   \\\n",
       "0                              Not stated   \n",
       "1                           Bronze whaler   \n",
       "2                              Not stated   \n",
       "3          Reportedly Tiger or Bull shark   \n",
       "4  Great White Shart estimated 4.8m 16 ft   \n",
       "\n",
       "                                              Source  pdf href formula href  \\\n",
       "0                                     Bob Myatt GSAF  NaN          NaN  NaN   \n",
       "1                                     Bob Myatt GSAF  NaN          NaN  NaN   \n",
       "2                  Kevin McMurray Trackingsharks.com  NaN          NaN  NaN   \n",
       "3                      Johannes Marchand Todd Smith   NaN          NaN  NaN   \n",
       "4  Glen Folkard: Simon De Marchi News.com.au: The...  NaN          NaN  NaN   \n",
       "\n",
       "  Case Number Case Number.1 original order Unnamed: 21 Unnamed: 22  \n",
       "0         NaN           NaN            NaN         NaN         NaN  \n",
       "1         NaN           NaN            NaN         NaN         NaN  \n",
       "2         NaN           NaN            NaN         NaN         NaN  \n",
       "3         NaN           NaN            NaN         NaN         NaN  \n",
       "4         NaN           NaN            NaN         NaN         NaN  \n",
       "\n",
       "[5 rows x 23 columns]"
      ]
     },
     "execution_count": 5,
     "metadata": {},
     "output_type": "execute_result"
    }
   ],
   "source": [
    "df.head()"
   ]
  },
  {
   "cell_type": "code",
   "execution_count": 6,
   "id": "fd7aa60b-2a41-4412-9aca-3c9fb189c5d8",
   "metadata": {},
   "outputs": [
    {
     "data": {
      "text/plain": [
       "Index(['Date', 'Year', 'Type', 'Country', 'State', 'Location', 'Activity',\n",
       "       'Name', 'Sex', 'Age', 'Injury', 'Fatal Y/N', 'Time', 'Species ',\n",
       "       'Source', 'pdf', 'href formula', 'href', 'Case Number', 'Case Number.1',\n",
       "       'original order', 'Unnamed: 21', 'Unnamed: 22'],\n",
       "      dtype='object')"
      ]
     },
     "execution_count": 6,
     "metadata": {},
     "output_type": "execute_result"
    }
   ],
   "source": [
    "df.columns"
   ]
  },
  {
   "cell_type": "code",
   "execution_count": 21,
   "id": "eaccfe17",
   "metadata": {},
   "outputs": [
    {
     "data": {
      "text/plain": [
       "Date              6992\n",
       "Year              6990\n",
       "Type              6974\n",
       "Country           6942\n",
       "State             6510\n",
       "Location          6427\n",
       "Activity          6407\n",
       "Name              6773\n",
       "Sex               6413\n",
       "Age               3998\n",
       "Injury            6957\n",
       "Fatal Y/N         6431\n",
       "Time              3466\n",
       "Species           3860\n",
       "Source            6973\n",
       "pdf               6799\n",
       "href formula      6794\n",
       "href              6796\n",
       "Case Number       6798\n",
       "Case Number.1     6797\n",
       "original order    6799\n",
       "Unnamed: 21          1\n",
       "Unnamed: 22          2\n",
       "dtype: int64"
      ]
     },
     "execution_count": 21,
     "metadata": {},
     "output_type": "execute_result"
    }
   ],
   "source": [
    "df.notnull() .sum()"
   ]
  },
  {
   "cell_type": "code",
   "execution_count": 7,
   "id": "24002958",
   "metadata": {},
   "outputs": [
    {
     "data": {
      "text/plain": [
       "(6992, 23)"
      ]
     },
     "execution_count": 7,
     "metadata": {},
     "output_type": "execute_result"
    }
   ],
   "source": [
    "df.shape"
   ]
  },
  {
   "cell_type": "code",
   "execution_count": 8,
   "id": "620a15c0",
   "metadata": {},
   "outputs": [
    {
     "data": {
      "text/plain": [
       "Date                 0\n",
       "Year                 2\n",
       "Type                18\n",
       "Country             50\n",
       "State              482\n",
       "Location           565\n",
       "Activity           585\n",
       "Name               219\n",
       "Sex                579\n",
       "Age               2994\n",
       "Injury              35\n",
       "Fatal Y/N          561\n",
       "Time              3526\n",
       "Species           3132\n",
       "Source              19\n",
       "pdf                193\n",
       "href formula       198\n",
       "href               196\n",
       "Case Number        194\n",
       "Case Number.1      195\n",
       "original order     193\n",
       "Unnamed: 21       6991\n",
       "Unnamed: 22       6990\n",
       "dtype: int64"
      ]
     },
     "execution_count": 8,
     "metadata": {},
     "output_type": "execute_result"
    }
   ],
   "source": [
    "df.isnull().sum()"
   ]
  },
  {
   "cell_type": "code",
   "execution_count": 9,
   "id": "fcf08335",
   "metadata": {},
   "outputs": [
    {
     "data": {
      "text/plain": [
       "0"
      ]
     },
     "execution_count": 9,
     "metadata": {},
     "output_type": "execute_result"
    }
   ],
   "source": [
    "df.duplicated().sum()"
   ]
  },
  {
   "cell_type": "code",
   "execution_count": 10,
   "id": "bb6490f8",
   "metadata": {},
   "outputs": [],
   "source": [
    "#if there were duplicates we would have used the following code to drop them\n",
    "#df.drop_duplicates(inplace=True)"
   ]
  },
  {
   "cell_type": "code",
   "execution_count": 11,
   "id": "33663cb2",
   "metadata": {},
   "outputs": [
    {
     "data": {
      "text/plain": [
       "Date               object\n",
       "Year              float64\n",
       "Type               object\n",
       "Country            object\n",
       "State              object\n",
       "Location           object\n",
       "Activity           object\n",
       "Name               object\n",
       "Sex                object\n",
       "Age                object\n",
       "Injury             object\n",
       "Fatal Y/N          object\n",
       "Time               object\n",
       "Species            object\n",
       "Source             object\n",
       "pdf                object\n",
       "href formula       object\n",
       "href               object\n",
       "Case Number        object\n",
       "Case Number.1      object\n",
       "original order    float64\n",
       "Unnamed: 21        object\n",
       "Unnamed: 22        object\n",
       "dtype: object"
      ]
     },
     "execution_count": 11,
     "metadata": {},
     "output_type": "execute_result"
    }
   ],
   "source": [
    "df.dtypes"
   ]
  },
  {
   "cell_type": "code",
   "execution_count": 12,
   "id": "7cc8b738",
   "metadata": {},
   "outputs": [
    {
     "data": {
      "text/html": [
       "<div>\n",
       "<style scoped>\n",
       "    .dataframe tbody tr th:only-of-type {\n",
       "        vertical-align: middle;\n",
       "    }\n",
       "\n",
       "    .dataframe tbody tr th {\n",
       "        vertical-align: top;\n",
       "    }\n",
       "\n",
       "    .dataframe thead th {\n",
       "        text-align: right;\n",
       "    }\n",
       "</style>\n",
       "<table border=\"1\" class=\"dataframe\">\n",
       "  <thead>\n",
       "    <tr style=\"text-align: right;\">\n",
       "      <th></th>\n",
       "      <th>Date</th>\n",
       "      <th>Year</th>\n",
       "      <th>Type</th>\n",
       "      <th>Country</th>\n",
       "      <th>State</th>\n",
       "      <th>Location</th>\n",
       "      <th>Activity</th>\n",
       "      <th>Name</th>\n",
       "      <th>Sex</th>\n",
       "      <th>Age</th>\n",
       "      <th>...</th>\n",
       "      <th>Species</th>\n",
       "      <th>Source</th>\n",
       "      <th>pdf</th>\n",
       "      <th>href formula</th>\n",
       "      <th>href</th>\n",
       "      <th>Case Number</th>\n",
       "      <th>Case Number.1</th>\n",
       "      <th>original order</th>\n",
       "      <th>Unnamed: 21</th>\n",
       "      <th>Unnamed: 22</th>\n",
       "    </tr>\n",
       "  </thead>\n",
       "  <tbody>\n",
       "    <tr>\n",
       "      <th>2241</th>\n",
       "      <td>16-Jun-2005</td>\n",
       "      <td>2005.0</td>\n",
       "      <td>Unprovoked</td>\n",
       "      <td>USA</td>\n",
       "      <td>Florida</td>\n",
       "      <td>Howard E. Futch Memorial Park at Paradise Beac...</td>\n",
       "      <td>Swimming</td>\n",
       "      <td>male</td>\n",
       "      <td>M</td>\n",
       "      <td>20</td>\n",
       "      <td>...</td>\n",
       "      <td>Unknown, but it was reported that a shark toot...</td>\n",
       "      <td>Local6.com</td>\n",
       "      <td>2005.06.16-male.pdf</td>\n",
       "      <td>http://sharkattackfile.net/spreadsheets/pdf_di...</td>\n",
       "      <td>http://sharkattackfile.net/spreadsheets/pdf_di...</td>\n",
       "      <td>2005.06.16</td>\n",
       "      <td>2005.06.16</td>\n",
       "      <td>4749.0</td>\n",
       "      <td>NaN</td>\n",
       "      <td>NaN</td>\n",
       "    </tr>\n",
       "    <tr>\n",
       "      <th>6209</th>\n",
       "      <td>Reported 01-Nov-1902</td>\n",
       "      <td>1902.0</td>\n",
       "      <td>Unprovoked</td>\n",
       "      <td>USA</td>\n",
       "      <td>Texas</td>\n",
       "      <td>Near Port Lavaca, Calhoun County</td>\n",
       "      <td>Fishing</td>\n",
       "      <td>male</td>\n",
       "      <td>M</td>\n",
       "      <td>NaN</td>\n",
       "      <td>...</td>\n",
       "      <td>NaN</td>\n",
       "      <td>Victoria Weekly, 1/11/ 1902</td>\n",
       "      <td>1902.11.01.R-PortLavaca.pdf</td>\n",
       "      <td>http://sharkattackfile.net/spreadsheets/pdf_di...</td>\n",
       "      <td>http://sharkattackfile.net/spreadsheets/pdf_di...</td>\n",
       "      <td>1902.11.01.R</td>\n",
       "      <td>1902.11.01.R</td>\n",
       "      <td>782.0</td>\n",
       "      <td>NaN</td>\n",
       "      <td>NaN</td>\n",
       "    </tr>\n",
       "    <tr>\n",
       "      <th>5</th>\n",
       "      <td>2024-12-29 00:00:00</td>\n",
       "      <td>2024.0</td>\n",
       "      <td>Unprovoked</td>\n",
       "      <td>Egypt</td>\n",
       "      <td>North of Marsa Alam</td>\n",
       "      <td>Red Sea</td>\n",
       "      <td>SCUBA Diving</td>\n",
       "      <td>Peppino Fappani</td>\n",
       "      <td>M</td>\n",
       "      <td>69</td>\n",
       "      <td>...</td>\n",
       "      <td>Reportedly a Tiger Shark</td>\n",
       "      <td>Todd Smith : Kevin McMurray Trackingsharks .co...</td>\n",
       "      <td>NaN</td>\n",
       "      <td>NaN</td>\n",
       "      <td>NaN</td>\n",
       "      <td>NaN</td>\n",
       "      <td>NaN</td>\n",
       "      <td>NaN</td>\n",
       "      <td>NaN</td>\n",
       "      <td>NaN</td>\n",
       "    </tr>\n",
       "    <tr>\n",
       "      <th>4484</th>\n",
       "      <td>07-Jul-1962</td>\n",
       "      <td>1962.0</td>\n",
       "      <td>Unprovoked</td>\n",
       "      <td>USA</td>\n",
       "      <td>Georgia</td>\n",
       "      <td>Jekyll Island, Glynn County</td>\n",
       "      <td>Dived from inner-tube</td>\n",
       "      <td>Gary Duncan</td>\n",
       "      <td>M</td>\n",
       "      <td>13</td>\n",
       "      <td>...</td>\n",
       "      <td>NaN</td>\n",
       "      <td>J. M. Hicks, M.D.; Washington Star, 7/14/1962</td>\n",
       "      <td>1962.07.07-Duncan.pdf</td>\n",
       "      <td>http://sharkattackfile.net/spreadsheets/pdf_di...</td>\n",
       "      <td>http://sharkattackfile.net/spreadsheets/pdf_di...</td>\n",
       "      <td>1962.07.07</td>\n",
       "      <td>1962.07.07</td>\n",
       "      <td>2506.0</td>\n",
       "      <td>NaN</td>\n",
       "      <td>NaN</td>\n",
       "    </tr>\n",
       "    <tr>\n",
       "      <th>4258</th>\n",
       "      <td>Apr-1966</td>\n",
       "      <td>1966.0</td>\n",
       "      <td>Sea Disaster</td>\n",
       "      <td>AUSTRALIA</td>\n",
       "      <td>New South Wales</td>\n",
       "      <td>Botany Bay, Sydney</td>\n",
       "      <td>Overturned skiff</td>\n",
       "      <td>Occupants: Jack Munro, Quinton Graham &amp; Donald...</td>\n",
       "      <td>M</td>\n",
       "      <td>NaN</td>\n",
       "      <td>...</td>\n",
       "      <td>NaN</td>\n",
       "      <td>SAF Case #1413</td>\n",
       "      <td>1966.04.00-NV-skiff.pdf</td>\n",
       "      <td>http://sharkattackfile.net/spreadsheets/pdf_di...</td>\n",
       "      <td>http://sharkattackfile.net/spreadsheets/pdf_di...</td>\n",
       "      <td>1966.04.00</td>\n",
       "      <td>1966.04.00</td>\n",
       "      <td>2732.0</td>\n",
       "      <td>NaN</td>\n",
       "      <td>NaN</td>\n",
       "    </tr>\n",
       "  </tbody>\n",
       "</table>\n",
       "<p>5 rows × 23 columns</p>\n",
       "</div>"
      ],
      "text/plain": [
       "                      Date    Year          Type    Country  \\\n",
       "2241           16-Jun-2005  2005.0    Unprovoked        USA   \n",
       "6209  Reported 01-Nov-1902  1902.0    Unprovoked        USA   \n",
       "5      2024-12-29 00:00:00  2024.0    Unprovoked      Egypt   \n",
       "4484           07-Jul-1962  1962.0    Unprovoked        USA   \n",
       "4258              Apr-1966  1966.0  Sea Disaster  AUSTRALIA   \n",
       "\n",
       "                    State                                           Location  \\\n",
       "2241              Florida  Howard E. Futch Memorial Park at Paradise Beac...   \n",
       "6209                Texas                   Near Port Lavaca, Calhoun County   \n",
       "5     North of Marsa Alam                                            Red Sea   \n",
       "4484              Georgia                        Jekyll Island, Glynn County   \n",
       "4258      New South Wales                                 Botany Bay, Sydney   \n",
       "\n",
       "                   Activity  \\\n",
       "2241               Swimming   \n",
       "6209                Fishing   \n",
       "5              SCUBA Diving   \n",
       "4484  Dived from inner-tube   \n",
       "4258       Overturned skiff   \n",
       "\n",
       "                                                   Name Sex  Age  ...  \\\n",
       "2241                                               male   M   20  ...   \n",
       "6209                                               male   M  NaN  ...   \n",
       "5                                       Peppino Fappani   M   69  ...   \n",
       "4484                                        Gary Duncan   M   13  ...   \n",
       "4258  Occupants: Jack Munro, Quinton Graham & Donald...   M  NaN  ...   \n",
       "\n",
       "                                               Species   \\\n",
       "2241  Unknown, but it was reported that a shark toot...   \n",
       "6209                                                NaN   \n",
       "5                              Reportedly a Tiger Shark   \n",
       "4484                                                NaN   \n",
       "4258                                                NaN   \n",
       "\n",
       "                                                 Source  \\\n",
       "2241                                         Local6.com   \n",
       "6209                        Victoria Weekly, 1/11/ 1902   \n",
       "5     Todd Smith : Kevin McMurray Trackingsharks .co...   \n",
       "4484      J. M. Hicks, M.D.; Washington Star, 7/14/1962   \n",
       "4258                                     SAF Case #1413   \n",
       "\n",
       "                              pdf  \\\n",
       "2241          2005.06.16-male.pdf   \n",
       "6209  1902.11.01.R-PortLavaca.pdf   \n",
       "5                             NaN   \n",
       "4484        1962.07.07-Duncan.pdf   \n",
       "4258      1966.04.00-NV-skiff.pdf   \n",
       "\n",
       "                                           href formula  \\\n",
       "2241  http://sharkattackfile.net/spreadsheets/pdf_di...   \n",
       "6209  http://sharkattackfile.net/spreadsheets/pdf_di...   \n",
       "5                                                   NaN   \n",
       "4484  http://sharkattackfile.net/spreadsheets/pdf_di...   \n",
       "4258  http://sharkattackfile.net/spreadsheets/pdf_di...   \n",
       "\n",
       "                                                   href   Case Number  \\\n",
       "2241  http://sharkattackfile.net/spreadsheets/pdf_di...    2005.06.16   \n",
       "6209  http://sharkattackfile.net/spreadsheets/pdf_di...  1902.11.01.R   \n",
       "5                                                   NaN           NaN   \n",
       "4484  http://sharkattackfile.net/spreadsheets/pdf_di...    1962.07.07   \n",
       "4258  http://sharkattackfile.net/spreadsheets/pdf_di...    1966.04.00   \n",
       "\n",
       "     Case Number.1 original order Unnamed: 21 Unnamed: 22  \n",
       "2241    2005.06.16         4749.0         NaN         NaN  \n",
       "6209  1902.11.01.R          782.0         NaN         NaN  \n",
       "5              NaN            NaN         NaN         NaN  \n",
       "4484    1962.07.07         2506.0         NaN         NaN  \n",
       "4258    1966.04.00         2732.0         NaN         NaN  \n",
       "\n",
       "[5 rows x 23 columns]"
      ]
     },
     "execution_count": 12,
     "metadata": {},
     "output_type": "execute_result"
    }
   ],
   "source": [
    "df.sample(5)"
   ]
  },
  {
   "cell_type": "code",
   "execution_count": 13,
   "id": "4c4a2d8a",
   "metadata": {},
   "outputs": [
    {
     "data": {
      "text/html": [
       "<div>\n",
       "<style scoped>\n",
       "    .dataframe tbody tr th:only-of-type {\n",
       "        vertical-align: middle;\n",
       "    }\n",
       "\n",
       "    .dataframe tbody tr th {\n",
       "        vertical-align: top;\n",
       "    }\n",
       "\n",
       "    .dataframe thead th {\n",
       "        text-align: right;\n",
       "    }\n",
       "</style>\n",
       "<table border=\"1\" class=\"dataframe\">\n",
       "  <thead>\n",
       "    <tr style=\"text-align: right;\">\n",
       "      <th></th>\n",
       "      <th>Year</th>\n",
       "      <th>original order</th>\n",
       "    </tr>\n",
       "  </thead>\n",
       "  <tbody>\n",
       "    <tr>\n",
       "      <th>count</th>\n",
       "      <td>6990.000000</td>\n",
       "      <td>6799.000000</td>\n",
       "    </tr>\n",
       "    <tr>\n",
       "      <th>mean</th>\n",
       "      <td>1935.018598</td>\n",
       "      <td>3401.152081</td>\n",
       "    </tr>\n",
       "    <tr>\n",
       "      <th>std</th>\n",
       "      <td>272.082794</td>\n",
       "      <td>1963.076319</td>\n",
       "    </tr>\n",
       "    <tr>\n",
       "      <th>min</th>\n",
       "      <td>0.000000</td>\n",
       "      <td>2.000000</td>\n",
       "    </tr>\n",
       "    <tr>\n",
       "      <th>25%</th>\n",
       "      <td>1947.000000</td>\n",
       "      <td>1701.500000</td>\n",
       "    </tr>\n",
       "    <tr>\n",
       "      <th>50%</th>\n",
       "      <td>1986.000000</td>\n",
       "      <td>3401.000000</td>\n",
       "    </tr>\n",
       "    <tr>\n",
       "      <th>75%</th>\n",
       "      <td>2009.000000</td>\n",
       "      <td>5100.500000</td>\n",
       "    </tr>\n",
       "    <tr>\n",
       "      <th>max</th>\n",
       "      <td>2026.000000</td>\n",
       "      <td>6802.000000</td>\n",
       "    </tr>\n",
       "  </tbody>\n",
       "</table>\n",
       "</div>"
      ],
      "text/plain": [
       "              Year  original order\n",
       "count  6990.000000     6799.000000\n",
       "mean   1935.018598     3401.152081\n",
       "std     272.082794     1963.076319\n",
       "min       0.000000        2.000000\n",
       "25%    1947.000000     1701.500000\n",
       "50%    1986.000000     3401.000000\n",
       "75%    2009.000000     5100.500000\n",
       "max    2026.000000     6802.000000"
      ]
     },
     "execution_count": 13,
     "metadata": {},
     "output_type": "execute_result"
    }
   ],
   "source": [
    "df.describe()"
   ]
  },
  {
   "cell_type": "code",
   "execution_count": null,
   "id": "cb29b7e9",
   "metadata": {},
   "outputs": [],
   "source": [
    "#if in the code above we notice too many inconsistency we would look for outliers but it seems unnecessary here.\n",
    "# Example: Remove outliers using the interquartile range (IQR)\n",
    "Q1 = df['numeric_column'].quantile(0.25)\n",
    "Q3 = df['numeric_column'].quantile(0.75)\n",
    "IQR = Q3 - Q1\n",
    "\n",
    "# Define acceptable range\n",
    "lower_bound = Q1 - 1.5 * IQR\n",
    "upper_bound = Q3 + 1.5 * IQR\n",
    "\n",
    "# Filter data\n",
    "df = df[(df['numeric_column'] >= lower_bound) & (df['numeric_column'] <= upper_bound)]\n"
   ]
  },
  {
   "cell_type": "code",
   "execution_count": 14,
   "id": "aff0b21d",
   "metadata": {},
   "outputs": [
    {
     "name": "stdout",
     "output_type": "stream",
     "text": [
      "Index(['Date', 'Year', 'Type', 'Country', 'State', 'Location', 'Activity',\n",
      "       'Name', 'Sex', 'Age', 'Injury', 'Fatal Y/N', 'Time', 'Species ',\n",
      "       'Source'],\n",
      "      dtype='object')\n"
     ]
    }
   ],
   "source": [
    "\n",
    "workAbleColumns = df.iloc[:, 0:15] \n",
    "print(workAbleColumns.columns)"
   ]
  },
  {
   "cell_type": "code",
   "execution_count": 15,
   "id": "e19747d0",
   "metadata": {},
   "outputs": [
    {
     "data": {
      "text/plain": [
       "Country\n",
       "USA                   2556\n",
       "AUSTRALIA             1481\n",
       "SOUTH AFRICA           597\n",
       "NEW ZEALAND            144\n",
       "PAPUA NEW GUINEA       136\n",
       "                      ... \n",
       "EGYPT / ISRAEL           1\n",
       "Seychelles               1\n",
       "GRAND CAYMAN             1\n",
       "ST. MAARTIN              1\n",
       "CEYLON (SRI LANKA)       1\n",
       "Name: count, Length: 239, dtype: int64"
      ]
     },
     "execution_count": 15,
     "metadata": {},
     "output_type": "execute_result"
    }
   ],
   "source": [
    "#in which countries do shark attacks occur?\n",
    "workAbleColumns[\"Country\"].value_counts()"
   ]
  },
  {
   "cell_type": "code",
   "execution_count": 16,
   "id": "11552801",
   "metadata": {},
   "outputs": [
    {
     "name": "stdout",
     "output_type": "stream",
     "text": [
      "USA\n"
     ]
    }
   ],
   "source": [
    "#Which country in the world has the most shark attacks?\n",
    "def mostSharkAttacks():\n",
    "    return workAbleColumns['Country'].value_counts().idxmax()\n",
    "print(mostSharkAttacks())"
   ]
  },
  {
   "cell_type": "code",
   "execution_count": 17,
   "id": "fdc85089",
   "metadata": {},
   "outputs": [
    {
     "name": "stdout",
     "output_type": "stream",
     "text": [
      "Country\n",
      "USA                 2556\n",
      "AUSTRALIA           1481\n",
      "SOUTH AFRICA         597\n",
      "NEW ZEALAND          144\n",
      "PAPUA NEW GUINEA     136\n",
      "BAHAMAS              136\n",
      "BRAZIL               122\n",
      "MEXICO               103\n",
      "ITALY                 72\n",
      "FIJI                  67\n",
      "Name: count, dtype: int64\n"
     ]
    }
   ],
   "source": [
    "#Top 10 countries with the most shark attacks\n",
    "TopTenCountries = workAbleColumns['Country'].value_counts().head(10)\n",
    "print(TopTenCountries)"
   ]
  },
  {
   "cell_type": "code",
   "execution_count": 18,
   "id": "5b489000",
   "metadata": {},
   "outputs": [
    {
     "data": {
      "text/plain": [
       "Location\n",
       "New Smyrna Beach, Volusia County              191\n",
       "Daytona Beach, Volusia County                  31\n",
       "Ponce Inlet, Volusia County                    28\n",
       "Myrtle Beach, Horry County                     22\n",
       "Melbourne Beach, Brevard County                20\n",
       "                                             ... \n",
       "Tunnels surf break off Makua Beach, Kaua'i      1\n",
       "Near Patrick Air Force Base Brevard County      1\n",
       "Palm Beach?                                     1\n",
       "Stuart Park Beach, Martin County                1\n",
       "Below the English fort, Trincomalee             1\n",
       "Name: count, Length: 4553, dtype: int64"
      ]
     },
     "execution_count": 18,
     "metadata": {},
     "output_type": "execute_result"
    }
   ],
   "source": [
    "#STATES IN USA WHERE SHARK ATTACKS OCCUR\n",
    "workAbleColumns[\"Location\"].value_counts()"
   ]
  },
  {
   "cell_type": "code",
   "execution_count": null,
   "id": "e3a82cc0",
   "metadata": {},
   "outputs": [],
   "source": []
  }
 ],
 "metadata": {
  "kernelspec": {
   "display_name": "base",
   "language": "python",
   "name": "python3"
  },
  "language_info": {
   "codemirror_mode": {
    "name": "ipython",
    "version": 3
   },
   "file_extension": ".py",
   "mimetype": "text/x-python",
   "name": "python",
   "nbconvert_exporter": "python",
   "pygments_lexer": "ipython3",
   "version": "3.12.7"
  }
 },
 "nbformat": 4,
 "nbformat_minor": 5
}
